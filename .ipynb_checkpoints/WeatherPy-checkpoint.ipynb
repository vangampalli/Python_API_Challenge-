{
 "cells": [
  {
   "cell_type": "markdown",
   "metadata": {},
   "source": [
    "# WeatherPy\n",
    "----\n",
    "\n",
    "#### Note\n",
    "* Instructions have been included for each segment. You do not have to follow them exactly, but they are included to help you think through the steps."
   ]
  },
  {
   "cell_type": "code",
   "execution_count": 2,
   "metadata": {
    "scrolled": true
   },
   "outputs": [],
   "source": [
    "# Dependencies and Setup\n",
    "import matplotlib.pyplot as plt\n",
    "import pandas as pd\n",
    "import numpy as np\n",
    "import requests\n",
    "import time\n",
    "import scipy.stats as st\n",
    "from scipy.stats import linregress\n",
    "from pprint import pprint \n",
    "\n",
    "# Import API key\n",
    "from api_keys import weather_api_key\n",
    "\n",
    "# Incorporated citipy to determine city based on latitude and longitude\n",
    "from citipy import citipy\n",
    "\n",
    "# Output File (CSV)\n",
    "output_data_file = \"output_data/cities.csv\"\n",
    "\n",
    "# Range of latitudes and longitudes\n",
    "lat_range = (-90, 90)\n",
    "lng_range = (-180, 180)"
   ]
  },
  {
   "cell_type": "markdown",
   "metadata": {},
   "source": [
    "## Generate Cities List"
   ]
  },
  {
   "cell_type": "code",
   "execution_count": 3,
   "metadata": {},
   "outputs": [
    {
     "data": {
      "text/plain": [
       "630"
      ]
     },
     "execution_count": 3,
     "metadata": {},
     "output_type": "execute_result"
    }
   ],
   "source": [
    "# List for holding lat_lngs and cities\n",
    "lat_lngs = []\n",
    "cities = []\n",
    "\n",
    "# Create a set of random lat and lng combinations\n",
    "lats = np.random.uniform(lat_range[0], lat_range[1], size=1500) #change to 1500\n",
    "lngs = np.random.uniform(lng_range[0], lng_range[1], size=1500)\n",
    "lat_lngs = zip(lats, lngs)\n",
    "\n",
    "# Identify nearest city for each lat, lng combination\n",
    "for lat_lng in lat_lngs:\n",
    "    city = citipy.nearest_city(lat_lng[0], lat_lng[1]).city_name\n",
    "    \n",
    "    # If the city is unique, then add it to a our cities list\n",
    "    if city not in cities:\n",
    "        cities.append(city)\n",
    "\n",
    "# Print the city count to confirm sufficient count\n",
    "len(cities)"
   ]
  },
  {
   "cell_type": "markdown",
   "metadata": {},
   "source": [
    "### Perform API Calls\n",
    "* Perform a weather check on each city using a series of successive API calls.\n",
    "* Include a print log of each city as it'sbeing processed (with the city number and city name).\n"
   ]
  },
  {
   "cell_type": "code",
   "execution_count": 4,
   "metadata": {
    "scrolled": true
   },
   "outputs": [
    {
     "name": "stdout",
     "output_type": "stream",
     "text": [
      "Processing Record: 0| ushuaia\n",
      "Processing Record: 1| arraial do cabo\n",
      "Processing Record: 2| kassala\n",
      "Processing Record: 3| batsfjord\n",
      "Processing Record: 4| kazalinsk\n",
      "------>A city was just removed because some data is not available\n",
      "Processing Record: 5| salalah\n",
      "Processing Record: 6| punta arenas\n",
      "Processing Record: 7| crowley\n",
      "Processing Record: 8| mataura\n",
      "Processing Record: 9| castro\n",
      "Processing Record: 10| taolanaro\n",
      "------>A city was just removed because some data is not available\n",
      "Processing Record: 11| faanui\n",
      "Processing Record: 12| katsuura\n",
      "Processing Record: 13| esperance\n",
      "Processing Record: 14| hobart\n",
      "Processing Record: 15| namtsy\n",
      "Processing Record: 16| chaoyang\n",
      "Processing Record: 17| port alfred\n",
      "Processing Record: 18| busselton\n",
      "Processing Record: 19| yellowknife\n",
      "Processing Record: 20| maniitsoq\n",
      "Processing Record: 21| avarua\n",
      "Processing Record: 22| ostrovnoy\n",
      "Processing Record: 23| algodones\n",
      "Processing Record: 24| broome\n",
      "Processing Record: 25| tasiilaq\n",
      "Processing Record: 26| evensk\n",
      "Processing Record: 27| khatanga\n",
      "Processing Record: 28| muros\n",
      "Processing Record: 29| qaanaaq\n",
      "Processing Record: 30| dikson\n",
      "Processing Record: 31| lorengau\n",
      "Processing Record: 32| codrington\n",
      "Processing Record: 33| lebu\n",
      "Processing Record: 34| beidao\n",
      "Processing Record: 35| lahaina\n",
      "Processing Record: 36| bredasdorp\n",
      "Processing Record: 37| corbeni\n",
      "Processing Record: 38| illoqqortoormiut\n",
      "------>A city was just removed because some data is not available\n",
      "Processing Record: 39| nizhneyansk\n",
      "------>A city was just removed because some data is not available\n",
      "Processing Record: 40| hofn\n",
      "Processing Record: 41| puerto ayora\n",
      "Processing Record: 42| yatou\n",
      "Processing Record: 43| chapais\n",
      "Processing Record: 44| kuryk\n",
      "Processing Record: 45| changji\n",
      "Processing Record: 46| lagoa\n",
      "Processing Record: 47| new norfolk\n",
      "Processing Record: 48| margate\n",
      "Processing Record: 49| bambous virieux\n",
      "Processing Record: 50| sao filipe\n",
      "Processing Record: 51| draguseni\n",
      "Processing Record: 52| batemans bay\n",
      "Processing Record: 53| mbeya\n",
      "Processing Record: 54| bluff\n",
      "Processing Record: 55| zaragoza\n",
      "Processing Record: 56| korla\n",
      "Processing Record: 57| vaitupu\n",
      "------>A city was just removed because some data is not available\n",
      "Processing Record: 58| balapur\n",
      "Processing Record: 59| kushima\n",
      "Processing Record: 60| geraldton\n",
      "Processing Record: 61| jamestown\n",
      "Processing Record: 62| carauari\n",
      "Processing Record: 63| thompson\n",
      "Processing Record: 64| praia da vitoria\n",
      "Processing Record: 65| pasan\n",
      "Processing Record: 66| kankon\n",
      "Processing Record: 67| pisco\n",
      "Processing Record: 68| yulara\n",
      "Processing Record: 69| tuktoyaktuk\n",
      "Processing Record: 70| vila franca do campo\n",
      "Processing Record: 71| cape town\n",
      "Processing Record: 72| jeremie\n",
      "Processing Record: 73| faya\n",
      "Processing Record: 74| dongsheng\n",
      "Processing Record: 75| abay\n",
      "Processing Record: 76| kodiak\n",
      "Processing Record: 77| mahebourg\n",
      "Processing Record: 78| cayenne\n",
      "Processing Record: 79| tabou\n",
      "Processing Record: 80| belushya guba\n",
      "------>A city was just removed because some data is not available\n",
      "Processing Record: 81| maragogi\n",
      "Processing Record: 82| thinadhoo\n",
      "Processing Record: 83| arawa\n",
      "Processing Record: 84| bolgatanga\n",
      "Processing Record: 85| terrace bay\n",
      "Processing Record: 86| chuy\n",
      "Processing Record: 87| longyearbyen\n",
      "Processing Record: 88| shaunavon\n",
      "Processing Record: 89| safaqis\n",
      "------>A city was just removed because some data is not available\n",
      "Processing Record: 90| oktyabrskiy\n",
      "Processing Record: 91| pevek\n",
      "Processing Record: 92| dubbo\n",
      "Processing Record: 93| barras\n",
      "Processing Record: 94| kavaratti\n",
      "Processing Record: 95| tiksi\n",
      "Processing Record: 96| airai\n",
      "Processing Record: 97| cassilandia\n",
      "Processing Record: 98| buraydah\n",
      "Processing Record: 99| coquimbo\n",
      "Processing Record: 100| hilo\n",
      "Processing Record: 101| shingu\n",
      "Processing Record: 102| aberdeen\n",
      "Processing Record: 103| cherskiy\n",
      "Processing Record: 104| rikitea\n",
      "Processing Record: 105| komsomolskiy\n",
      "Processing Record: 106| verkhniy tagil\n",
      "Processing Record: 107| georgetown\n",
      "Processing Record: 108| bonavista\n",
      "Processing Record: 109| nikolskoye\n",
      "Processing Record: 110| bongor\n",
      "Processing Record: 111| upernavik\n",
      "Processing Record: 112| coahuayana\n",
      "Processing Record: 113| maceio\n",
      "Processing Record: 114| severo-kurilsk\n",
      "Processing Record: 115| aripuana\n",
      "Processing Record: 116| caravelas\n",
      "Processing Record: 117| vilhena\n",
      "Processing Record: 118| poum\n",
      "Processing Record: 119| thiruvananthapuram\n",
      "Processing Record: 120| torbay\n",
      "Processing Record: 121| hermanus\n",
      "Processing Record: 122| ribeira grande\n",
      "Processing Record: 123| monte escobedo\n",
      "Processing Record: 124| piaseczno\n",
      "Processing Record: 125| felanitx\n",
      "Processing Record: 126| royan\n",
      "Processing Record: 127| beroroha\n",
      "Processing Record: 128| pekan\n",
      "Processing Record: 129| vaini\n",
      "Processing Record: 130| pital\n",
      "Processing Record: 131| wanning\n",
      "Processing Record: 132| atuona\n",
      "Processing Record: 133| zheleznodorozhnyy\n",
      "Processing Record: 134| taoudenni\n",
      "Processing Record: 135| labuhan\n",
      "Processing Record: 136| albany\n",
      "Processing Record: 137| simao\n",
      "Processing Record: 138| north bend\n",
      "Processing Record: 139| carnarvon\n",
      "Processing Record: 140| kesova gora\n",
      "Processing Record: 141| padang\n",
      "Processing Record: 142| moranbah\n",
      "Processing Record: 143| baykit\n",
      "Processing Record: 144| custodia\n",
      "Processing Record: 145| banda aceh\n",
      "Processing Record: 146| clyde river\n",
      "Processing Record: 147| okhotsk\n",
      "Processing Record: 148| yenagoa\n",
      "Processing Record: 149| richards bay\n",
      "Processing Record: 150| port elizabeth\n",
      "Processing Record: 151| ciudad bolivar\n",
      "Processing Record: 152| sorland\n",
      "Processing Record: 153| palabuhanratu\n",
      "------>A city was just removed because some data is not available\n",
      "Processing Record: 154| olafsvik\n",
      "Processing Record: 155| attawapiskat\n",
      "------>A city was just removed because some data is not available\n",
      "Processing Record: 156| hami\n",
      "Processing Record: 157| beringovskiy\n",
      "Processing Record: 158| half moon bay\n",
      "Processing Record: 159| vao\n",
      "Processing Record: 160| port blair\n",
      "Processing Record: 161| barrow\n",
      "Processing Record: 162| sol-iletsk\n",
      "Processing Record: 163| east london\n",
      "Processing Record: 164| lac du bonnet\n",
      "Processing Record: 165| naryan-mar\n",
      "Processing Record: 166| geresk\n",
      "------>A city was just removed because some data is not available\n",
      "Processing Record: 167| iqaluit\n",
      "Processing Record: 168| santa fe\n",
      "Processing Record: 169| toungoo\n",
      "------>A city was just removed because some data is not available\n",
      "Processing Record: 170| butaritari\n",
      "Processing Record: 171| port macquarie\n",
      "Processing Record: 172| rawson\n",
      "Processing Record: 173| san patricio\n",
      "Processing Record: 174| kaifeng\n",
      "Processing Record: 175| nieuw amsterdam\n",
      "Processing Record: 176| mar del plata\n",
      "Processing Record: 177| inuvik\n",
      "Processing Record: 178| dhidhdhoo\n",
      "Processing Record: 179| srikakulam\n",
      "Processing Record: 180| saint-joseph\n",
      "Processing Record: 181| mount gambier\n",
      "Processing Record: 182| sorong\n",
      "Processing Record: 183| zhigansk\n",
      "Processing Record: 184| mirnyy\n",
      "Processing Record: 185| alice springs\n",
      "Processing Record: 186| paamiut\n",
      "Processing Record: 187| cockburn town\n",
      "Processing Record: 188| kenai\n",
      "Processing Record: 189| qui nhon\n",
      "Processing Record: 190| wadi maliz\n",
      "Processing Record: 191| fairbanks\n",
      "Processing Record: 192| yanchukan\n",
      "------>A city was just removed because some data is not available\n",
      "Processing Record: 193| sao joao da barra\n",
      "Processing Record: 194| chone\n",
      "Processing Record: 195| cabo san lucas\n",
      "Processing Record: 196| palatka\n",
      "Processing Record: 197| tambopata\n",
      "Processing Record: 198| tiarei\n",
      "Processing Record: 199| hanmer springs\n",
      "Processing Record: 200| eastlake\n",
      "Processing Record: 201| isangel\n",
      "Processing Record: 202| saint-philippe\n",
      "Processing Record: 203| tilichiki\n",
      "Processing Record: 204| saleaula\n",
      "------>A city was just removed because some data is not available\n",
      "Processing Record: 205| teguise\n",
      "Processing Record: 206| kapaa\n",
      "Processing Record: 207| sentyabrskiy\n",
      "------>A city was just removed because some data is not available\n",
      "Processing Record: 208| linares\n",
      "Processing Record: 209| bandarbeyla\n",
      "Processing Record: 210| kachug\n",
      "Processing Record: 211| talcahuano\n",
      "Processing Record: 212| brae\n",
      "Processing Record: 213| andenes\n",
      "Processing Record: 214| kulhudhuffushi\n",
      "Processing Record: 215| sorvag\n",
      "------>A city was just removed because some data is not available\n",
      "Processing Record: 216| chirongui\n",
      "Processing Record: 217| axim\n",
      "Processing Record: 218| san pedro\n"
     ]
    },
    {
     "name": "stdout",
     "output_type": "stream",
     "text": [
      "Processing Record: 219| jalu\n",
      "Processing Record: 220| pacific grove\n",
      "Processing Record: 221| kirakira\n",
      "Processing Record: 222| adrar\n",
      "Processing Record: 223| high level\n",
      "Processing Record: 224| artyom\n",
      "Processing Record: 225| heze\n",
      "Processing Record: 226| asifabad\n",
      "Processing Record: 227| dwarka\n",
      "Processing Record: 228| ahipara\n",
      "Processing Record: 229| along\n",
      "Processing Record: 230| bengkulu\n",
      "Processing Record: 231| fare\n",
      "Processing Record: 232| lai\n",
      "Processing Record: 233| monrovia\n",
      "Processing Record: 234| baiao\n",
      "Processing Record: 235| amravati\n",
      "Processing Record: 236| moron\n",
      "Processing Record: 237| ponta do sol\n",
      "Processing Record: 238| naze\n",
      "Processing Record: 239| san juan\n",
      "Processing Record: 240| cody\n",
      "Processing Record: 241| paredon\n",
      "Processing Record: 242| ilulissat\n",
      "Processing Record: 243| victoria\n",
      "Processing Record: 244| arman\n",
      "Processing Record: 245| iberia\n",
      "Processing Record: 246| port lincoln\n",
      "Processing Record: 247| chokurdakh\n",
      "Processing Record: 248| izhma\n",
      "Processing Record: 249| saldanha\n",
      "Processing Record: 250| burnie\n",
      "Processing Record: 251| astana\n",
      "Processing Record: 252| akyab\n",
      "Processing Record: 253| norman wells\n",
      "Processing Record: 254| sobolevo\n",
      "Processing Record: 255| hithadhoo\n",
      "Processing Record: 256| machali\n",
      "Processing Record: 257| kahului\n",
      "Processing Record: 258| narsaq\n",
      "Processing Record: 259| erzin\n",
      "Processing Record: 260| amderma\n",
      "------>A city was just removed because some data is not available\n",
      "Processing Record: 261| nome\n",
      "Processing Record: 262| cairns\n",
      "Processing Record: 263| kautokeino\n",
      "Processing Record: 264| hannibal\n",
      "Processing Record: 265| horsham\n",
      "Processing Record: 266| rocha\n",
      "Processing Record: 267| hargeysa\n",
      "Processing Record: 268| sitka\n",
      "Processing Record: 269| kaitangata\n",
      "Processing Record: 270| nanortalik\n",
      "Processing Record: 271| kysyl-syr\n",
      "Processing Record: 272| venado tuerto\n",
      "Processing Record: 273| antofagasta\n",
      "Processing Record: 274| havelock\n",
      "Processing Record: 275| elat\n",
      "Processing Record: 276| vanderhoof\n",
      "Processing Record: 277| lyuban\n",
      "Processing Record: 278| pangnirtung\n",
      "Processing Record: 279| roma\n",
      "Processing Record: 280| zachagansk\n",
      "------>A city was just removed because some data is not available\n",
      "Processing Record: 281| bakchar\n",
      "Processing Record: 282| stekolnyy\n",
      "------>A city was just removed because some data is not available\n",
      "Processing Record: 283| barabash\n",
      "Processing Record: 284| voskresenskoye\n",
      "Processing Record: 285| paoua\n",
      "Processing Record: 286| igrim\n",
      "Processing Record: 287| savannah bight\n",
      "Processing Record: 288| dawei\n",
      "Processing Record: 289| tomatlan\n",
      "Processing Record: 290| disna\n",
      "Processing Record: 291| arlit\n",
      "Processing Record: 292| pomabamba\n",
      "Processing Record: 293| kavieng\n",
      "Processing Record: 294| talin\n",
      "Processing Record: 295| ancud\n",
      "Processing Record: 296| guerrero negro\n",
      "Processing Record: 297| verkhnyaya inta\n",
      "Processing Record: 298| bathsheba\n",
      "Processing Record: 299| central point\n",
      "Processing Record: 300| torquay\n",
      "Processing Record: 301| razole\n",
      "Processing Record: 302| san marcos de tarrazu\n",
      "------>A city was just removed because some data is not available\n",
      "Processing Record: 303| mafra\n",
      "Processing Record: 304| trelew\n",
      "Processing Record: 305| vrangel\n",
      "Processing Record: 306| leshukonskoye\n",
      "Processing Record: 307| hasaki\n",
      "Processing Record: 308| ust-kamchatsk\n",
      "------>A city was just removed because some data is not available\n",
      "Processing Record: 309| portland\n",
      "Processing Record: 310| bandundu\n",
      "Processing Record: 311| jiwani\n",
      "Processing Record: 312| diffa\n",
      "Processing Record: 313| tautira\n",
      "Processing Record: 314| sayyan\n",
      "Processing Record: 315| darnah\n",
      "Processing Record: 316| aklavik\n",
      "Processing Record: 317| dzilam gonzalez\n",
      "Processing Record: 318| zhob\n",
      "Processing Record: 319| quelimane\n",
      "Processing Record: 320| nguiu\n",
      "------>A city was just removed because some data is not available\n",
      "Processing Record: 321| motril\n",
      "Processing Record: 322| santa eulalia del rio\n",
      "------>A city was just removed because some data is not available\n",
      "Processing Record: 323| barbar\n",
      "------>A city was just removed because some data is not available\n",
      "Processing Record: 324| honiara\n",
      "Processing Record: 325| eureka\n",
      "Processing Record: 326| okha\n",
      "Processing Record: 327| hamilton\n",
      "Processing Record: 328| barentsburg\n",
      "------>A city was just removed because some data is not available\n",
      "Processing Record: 329| sao felix do xingu\n",
      "Processing Record: 330| orlik\n",
      "Processing Record: 331| mentok\n",
      "------>A city was just removed because some data is not available\n",
      "Processing Record: 332| chicama\n",
      "Processing Record: 333| ulychne\n",
      "Processing Record: 334| watsa\n",
      "Processing Record: 335| wairoa\n",
      "Processing Record: 336| castanos\n",
      "Processing Record: 337| omsukchan\n",
      "Processing Record: 338| ndele\n",
      "Processing Record: 339| saskylakh\n",
      "Processing Record: 340| acari\n",
      "Processing Record: 341| haines junction\n",
      "Processing Record: 342| kailua\n",
      "Processing Record: 343| provideniya\n",
      "Processing Record: 344| deep river\n",
      "Processing Record: 345| santa catarina de tepehuanes\n",
      "Processing Record: 346| boysun\n",
      "Processing Record: 347| manaure\n",
      "Processing Record: 348| nalut\n",
      "Processing Record: 349| calvinia\n",
      "Processing Record: 350| ottumwa\n",
      "Processing Record: 351| namibe\n",
      "Processing Record: 352| aswan\n",
      "Processing Record: 353| naberera\n",
      "Processing Record: 354| barranca\n",
      "Processing Record: 355| touros\n",
      "Processing Record: 356| verkhnevilyuysk\n",
      "Processing Record: 357| assai\n",
      "Processing Record: 358| grand river south east\n",
      "------>A city was just removed because some data is not available\n",
      "Processing Record: 359| marti\n",
      "Processing Record: 360| elko\n",
      "Processing Record: 361| dali\n",
      "Processing Record: 362| mrirt\n",
      "------>A city was just removed because some data is not available\n",
      "Processing Record: 363| tessalit\n",
      "Processing Record: 364| mankono\n",
      "Processing Record: 365| boende\n",
      "Processing Record: 366| acapulco\n",
      "Processing Record: 367| kruisfontein\n",
      "Processing Record: 368| santa isabel do rio negro\n",
      "Processing Record: 369| weligama\n",
      "Processing Record: 370| prince rupert\n",
      "Processing Record: 371| alofi\n",
      "Processing Record: 372| nipawin\n",
      "Processing Record: 373| rabaul\n",
      "Processing Record: 374| prado\n",
      "Processing Record: 375| marsa matruh\n",
      "Processing Record: 376| yeppoon\n",
      "Processing Record: 377| pochutla\n",
      "Processing Record: 378| sterling\n",
      "Processing Record: 379| himora\n",
      "------>A city was just removed because some data is not available\n",
      "Processing Record: 380| sheopur\n",
      "Processing Record: 381| trelleborg\n",
      "Processing Record: 382| bol\n",
      "Processing Record: 383| tumannyy\n",
      "------>A city was just removed because some data is not available\n",
      "Processing Record: 384| strezhevoy\n",
      "Processing Record: 385| masaka\n",
      "Processing Record: 386| baracoa\n",
      "Processing Record: 387| zabid\n",
      "Processing Record: 388| samalaeulu\n",
      "------>A city was just removed because some data is not available\n",
      "Processing Record: 389| hyeres\n",
      "Processing Record: 390| tura\n",
      "Processing Record: 391| maningrida\n",
      "Processing Record: 392| bethel\n",
      "Processing Record: 393| vardo\n",
      "Processing Record: 394| bereda\n",
      "Processing Record: 395| comodoro rivadavia\n",
      "Processing Record: 396| tateyama\n",
      "Processing Record: 397| kataysk\n",
      "Processing Record: 398| catamarca\n",
      "Processing Record: 399| ketchikan\n",
      "Processing Record: 400| valparaiso\n",
      "Processing Record: 401| prachuap khiri khan\n",
      "Processing Record: 402| vestmannaeyjar\n",
      "Processing Record: 403| petropavlovsk-kamchatskiy\n",
      "Processing Record: 404| linhares\n",
      "Processing Record: 405| tarakan\n",
      "Processing Record: 406| alta floresta\n",
      "Processing Record: 407| cidreira\n",
      "Processing Record: 408| parkent\n",
      "Processing Record: 409| tuatapere\n",
      "Processing Record: 410| rincon\n",
      "Processing Record: 411| mangaratiba\n",
      "Processing Record: 412| shahjahanpur\n",
      "Processing Record: 413| bolungarvik\n",
      "------>A city was just removed because some data is not available\n",
      "Processing Record: 414| chingirlau\n",
      "Processing Record: 415| saint george\n",
      "Processing Record: 416| vila velha\n",
      "Processing Record: 417| constitucion\n",
      "Processing Record: 418| tamandare\n",
      "Processing Record: 419| dinghai\n",
      "Processing Record: 420| quatre cocos\n",
      "Processing Record: 421| katrineholm\n",
      "Processing Record: 422| klaksvik\n",
      "Processing Record: 423| panguna\n",
      "Processing Record: 424| ust-barguzin\n",
      "Processing Record: 425| myskhako\n",
      "Processing Record: 426| zyryanka\n",
      "Processing Record: 427| tarrega\n",
      "Processing Record: 428| los andes\n",
      "Processing Record: 429| alpine\n",
      "Processing Record: 430| ngunguru\n",
      "Processing Record: 431| sertaozinho\n",
      "Processing Record: 432| roald\n",
      "Processing Record: 433| imbituba\n"
     ]
    },
    {
     "name": "stdout",
     "output_type": "stream",
     "text": [
      "Processing Record: 434| camopi\n",
      "Processing Record: 435| pemba\n",
      "Processing Record: 436| deputatskiy\n",
      "Processing Record: 437| shache\n",
      "Processing Record: 438| havre-saint-pierre\n",
      "Processing Record: 439| alamosa\n",
      "Processing Record: 440| cruz\n",
      "Processing Record: 441| marrakesh\n",
      "Processing Record: 442| manzil salim\n",
      "Processing Record: 443| saint-augustin\n",
      "Processing Record: 444| yumen\n",
      "Processing Record: 445| usak\n",
      "Processing Record: 446| fort abbas\n",
      "Processing Record: 447| mulege\n",
      "Processing Record: 448| morinville\n",
      "Processing Record: 449| manicore\n",
      "Processing Record: 450| karratha\n",
      "Processing Record: 451| chimbarongo\n",
      "Processing Record: 452| lithgow\n",
      "Processing Record: 453| flin flon\n",
      "Processing Record: 454| aranda de duero\n",
      "Processing Record: 455| puquio\n",
      "Processing Record: 456| cristalina\n",
      "Processing Record: 457| betioky\n",
      "Processing Record: 458| kargasok\n",
      "Processing Record: 459| tostamaa\n",
      "------>A city was just removed because some data is not available\n",
      "Processing Record: 460| bay city\n",
      "Processing Record: 461| rangapara\n",
      "Processing Record: 462| khasan\n",
      "Processing Record: 463| mooi river\n",
      "------>A city was just removed because some data is not available\n",
      "Processing Record: 464| waipawa\n",
      "Processing Record: 465| villanueva\n",
      "Processing Record: 466| murmashi\n",
      "Processing Record: 467| carnaiba\n",
      "Processing Record: 468| kalmunai\n",
      "Processing Record: 469| moyale\n",
      "Processing Record: 470| lang son\n",
      "Processing Record: 471| beisfjord\n",
      "Processing Record: 472| opuwo\n",
      "Processing Record: 473| port hardy\n",
      "Processing Record: 474| sibolga\n",
      "Processing Record: 475| anshun\n",
      "Processing Record: 476| san quintin\n",
      "Processing Record: 477| senno\n",
      "Processing Record: 478| mayumba\n",
      "Processing Record: 479| canmore\n",
      "Processing Record: 480| emirdag\n",
      "Processing Record: 481| yazd\n",
      "Processing Record: 482| kroya\n",
      "Processing Record: 483| montes altos\n",
      "Processing Record: 484| qaqortoq\n",
      "Processing Record: 485| eirunepe\n",
      "Processing Record: 486| stornoway\n",
      "Processing Record: 487| kibala\n",
      "Processing Record: 488| zella-mehlis\n",
      "Processing Record: 489| san cristobal\n",
      "Processing Record: 490| amboise\n",
      "Processing Record: 491| alihe\n",
      "Processing Record: 492| boguchany\n",
      "Processing Record: 493| uruzgan\n",
      "Processing Record: 494| kholtoson\n",
      "Processing Record: 495| skalistyy\n",
      "------>A city was just removed because some data is not available\n",
      "Processing Record: 496| missoula\n",
      "Processing Record: 497| lumut\n",
      "Processing Record: 498| samusu\n",
      "------>A city was just removed because some data is not available\n",
      "Processing Record: 499| grindavik\n",
      "Processing Record: 500| mogadishu\n",
      "Processing Record: 501| charagua\n",
      "Processing Record: 502| ransang\n",
      "Processing Record: 503| tsihombe\n",
      "------>A city was just removed because some data is not available\n",
      "Processing Record: 504| gurupa\n",
      "Processing Record: 505| klaebu\n",
      "Processing Record: 506| palmer\n",
      "Processing Record: 507| buta\n",
      "Processing Record: 508| makakilo city\n",
      "Processing Record: 509| quzhou\n",
      "Processing Record: 510| palenque\n",
      "Processing Record: 511| kafue\n",
      "Processing Record: 512| minab\n",
      "Processing Record: 513| bantou\n",
      "Processing Record: 514| husavik\n",
      "Processing Record: 515| hohhot\n",
      "Processing Record: 516| japura\n",
      "Processing Record: 517| marsabit\n",
      "Processing Record: 518| kuytun\n",
      "Processing Record: 519| talara\n",
      "Processing Record: 520| rungata\n",
      "------>A city was just removed because some data is not available\n",
      "Processing Record: 521| kimamba\n",
      "Processing Record: 522| atar\n",
      "Processing Record: 523| pandamatenga\n",
      "Processing Record: 524| miraflores\n",
      "Processing Record: 525| vanavara\n",
      "Processing Record: 526| pacifica\n",
      "Processing Record: 527| manta\n",
      "Processing Record: 528| energetik\n",
      "Processing Record: 529| polunochnoye\n",
      "Processing Record: 530| muli\n",
      "Processing Record: 531| grand gaube\n",
      "Processing Record: 532| nyrob\n",
      "Processing Record: 533| te anau\n",
      "Processing Record: 534| namatanai\n",
      "Processing Record: 535| baiyin\n",
      "Processing Record: 536| moa\n",
      "Processing Record: 537| jibuti\n",
      "Processing Record: 538| sahrak\n",
      "------>A city was just removed because some data is not available\n",
      "Processing Record: 539| doctor pedro p. pena\n",
      "------>A city was just removed because some data is not available\n",
      "Processing Record: 540| tabulbah\n",
      "------>A city was just removed because some data is not available\n",
      "Processing Record: 541| nemuro\n",
      "Processing Record: 542| sitges\n",
      "Processing Record: 543| port hawkesbury\n",
      "Processing Record: 544| ixtapa\n",
      "Processing Record: 545| pacayas\n",
      "Processing Record: 546| talnakh\n",
      "Processing Record: 547| roebourne\n",
      "Processing Record: 548| tahe\n",
      "Processing Record: 549| santa rosa\n",
      "Processing Record: 550| mizdah\n",
      "Processing Record: 551| mys shmidta\n",
      "------>A city was just removed because some data is not available\n",
      "Processing Record: 552| dingle\n",
      "Processing Record: 553| dunedin\n",
      "Processing Record: 554| channel-port aux basques\n",
      "Processing Record: 555| phnum penh\n",
      "------>A city was just removed because some data is not available\n",
      "Processing Record: 556| lasa\n",
      "Processing Record: 557| zvishavane\n",
      "Processing Record: 558| vanino\n",
      "Processing Record: 559| gadoros\n",
      "Processing Record: 560| kasongo\n",
      "Processing Record: 561| jaguaruna\n",
      "Processing Record: 562| lat yao\n",
      "Processing Record: 563| los llanos de aridane\n",
      "Processing Record: 564| fallon\n",
      "Processing Record: 565| oranjemund\n",
      "Processing Record: 566| northam\n",
      "Processing Record: 567| berlevag\n",
      "Processing Record: 568| leiyang\n",
      "Processing Record: 569| barroualie\n",
      "------>A city was just removed because some data is not available\n",
      "Processing Record: 570| kamenka\n",
      "Processing Record: 571| karkaralinsk\n",
      "------>A city was just removed because some data is not available\n",
      "Processing Record: 572| pinczow\n",
      "Processing Record: 573| morristown\n",
      "Processing Record: 574| kholmogory\n",
      "Processing Record: 575| kapoeta\n",
      "Processing Record: 576| akividu\n",
      "Processing Record: 577| kariba\n",
      "Processing Record: 578| atessa\n",
      "Processing Record: 579| tingo maria\n",
      "Processing Record: 580| terrace\n",
      "Processing Record: 581| lhokseumawe\n",
      "Processing Record: 582| port hedland\n",
      "Processing Record: 583| ambatofinandrahana\n",
      "Processing Record: 584| staroye drozhzhanoye\n",
      "Processing Record: 585| teguldet\n",
      "Processing Record: 586| palanpur\n",
      "Processing Record: 587| gat\n",
      "Processing Record: 588| boyolangu\n",
      "Processing Record: 589| rancho palos verdes\n",
      "Processing Record: 590| meyungs\n",
      "------>A city was just removed because some data is not available\n",
      "Processing Record: 591| tornio\n",
      "Processing Record: 592| ghanzi\n",
      "Processing Record: 593| samarai\n",
      "Processing Record: 594| ola\n",
      "Processing Record: 595| fortuna\n",
      "Processing Record: 596| fereydun kenar\n",
      "Processing Record: 597| bonthe\n",
      "Processing Record: 598| hambantota\n",
      "Processing Record: 599| starkville\n",
      "Processing Record: 600| salta\n",
      "Processing Record: 601| killybegs\n",
      "Processing Record: 602| tigwi\n",
      "------>A city was just removed because some data is not available\n",
      "Processing Record: 603| poronaysk\n",
      "Processing Record: 604| kaniama\n",
      "Processing Record: 605| laguna\n",
      "Processing Record: 606| asau\n",
      "Processing Record: 607| nakhabino\n",
      "Processing Record: 608| langsa\n",
      "Processing Record: 609| sabha\n",
      "Processing Record: 610| medianeira\n",
      "Processing Record: 611| jijiga\n",
      "Processing Record: 612| tual\n",
      "Processing Record: 613| olgod\n",
      "Processing Record: 614| meulaboh\n",
      "Processing Record: 615| santa marinella\n",
      "Processing Record: 616| marcona\n",
      "------>A city was just removed because some data is not available\n",
      "Processing Record: 617| aflu\n",
      "------>A city was just removed because some data is not available\n",
      "Processing Record: 618| jaumave\n",
      "Processing Record: 619| hualmay\n",
      "Processing Record: 620| lompoc\n",
      "Processing Record: 621| granard\n",
      "Processing Record: 622| vostok\n",
      "Processing Record: 623| bargal\n",
      "------>A city was just removed because some data is not available\n",
      "Processing Record: 624| katghora\n",
      "Processing Record: 625| ruatoria\n",
      "------>A city was just removed because some data is not available\n",
      "Processing Record: 626| taylor\n",
      "Processing Record: 627| warrnambool\n",
      "Processing Record: 628| waddan\n",
      "Processing Record: 629| colesberg\n"
     ]
    }
   ],
   "source": [
    "url = \"http://api.openweathermap.org/data/2.5/weather?q=\"\n",
    "api_call = \"&appid=\"\n",
    "response_json = []\n",
    "lat = []\n",
    "lng = []\n",
    "max_temp = []\n",
    "humidity = []\n",
    "cloudy = []\n",
    "wind_speed = []\n",
    "country = []\n",
    "date = []\n",
    "cities_index = []\n",
    "working_cities = []\n",
    "\n",
    "for i in range(len(cities)): \n",
    "    cities_index.append(i)\n",
    "    \n",
    "for i in cities_index: \n",
    "    print(f\"Processing Record: {i}| {cities[i]}\")\n",
    "    response  = requests.get(url + str(cities[i]) + \"&units=imperial\" + api_call + weather_api_key).json()\n",
    "    try:\n",
    "        working_cities.append(response['name'])\n",
    "        lat.append(response['coord']['lat'])\n",
    "        lng.append(response['coord']['lon'])\n",
    "        max_temp.append(response['main']['temp_max'])\n",
    "        humidity.append(response['main']['humidity'])\n",
    "        cloudy.append(response['clouds']['all'])\n",
    "        wind_speed.append(response['wind']['speed'])\n",
    "        country.append(response['sys']['country'])\n",
    "        date.append(response['dt'])\n",
    "    except (KeyError, IndexError):\n",
    "        print(\"------>A city was just removed because some data is not available\")\n",
    "   \n",
    "\n"
   ]
  },
  {
   "cell_type": "markdown",
   "metadata": {},
   "source": [
    "### Convert Raw Data to DataFrame\n",
    "* Export the city data into a .csv.\n",
    "* Display the DataFrame"
   ]
  },
  {
   "cell_type": "code",
   "execution_count": 5,
   "metadata": {},
   "outputs": [
    {
     "name": "stdout",
     "output_type": "stream",
     "text": [
      "580\n",
      "580\n",
      "580\n",
      "580\n",
      "580\n",
      "580\n",
      "580\n",
      "580\n",
      "580\n"
     ]
    }
   ],
   "source": [
    "print(len(working_cities))\n",
    "print(len(lat))\n",
    "print(len(lng))\n",
    "print(len(max_temp))\n",
    "print(len(humidity))\n",
    "print(len(cloudy))\n",
    "print(len(wind_speed))\n",
    "print(len(country))\n",
    "print(len(date))"
   ]
  },
  {
   "cell_type": "code",
   "execution_count": 7,
   "metadata": {},
   "outputs": [],
   "source": [
    "city_dataframe = pd.DataFrame({\"City\"         : working_cities, \n",
    "                               \"Lat\"          : lat,\n",
    "                               \"Lng\"          : lng,\n",
    "                               \"Max Temp\"     : max_temp, \n",
    "                               \"Humidity\"     : humidity,\n",
    "                               \"Cloudiness\"   : cloudy,\n",
    "                               \"Wind Speed\"   : wind_speed,\n",
    "                               \"Country\"      : country,\n",
    "                               \"Date\"         : date})\n",
    "city_dataframe\n",
    "city_dataframe.to_csv(\"/Users/Vanga/Desktop/Python_API_Challenge-/city_weather_df.csv\", index=False, header=True)"
   ]
  },
  {
   "cell_type": "code",
   "execution_count": null,
   "metadata": {},
   "outputs": [],
   "source": []
  },
  {
   "cell_type": "code",
   "execution_count": null,
   "metadata": {},
   "outputs": [],
   "source": []
  },
  {
   "cell_type": "markdown",
   "metadata": {},
   "source": [
    "## Inspect the data and remove the cities where the humidity > 100%.\n",
    "----\n",
    "Skip this step if there are no cities that have humidity > 100%. "
   ]
  },
  {
   "cell_type": "code",
   "execution_count": null,
   "metadata": {},
   "outputs": [],
   "source": []
  },
  {
   "cell_type": "code",
   "execution_count": 8,
   "metadata": {},
   "outputs": [],
   "source": [
    "#  Get the indices of cities that have humidity over 100%.\n"
   ]
  },
  {
   "cell_type": "code",
   "execution_count": 9,
   "metadata": {},
   "outputs": [],
   "source": [
    "# Make a new DataFrame equal to the city data to drop all humidity outliers by index.\n",
    "# Passing \"inplace=False\" will make a copy of the city_data DataFrame, which we call \"clean_city_data\".\n"
   ]
  },
  {
   "cell_type": "code",
   "execution_count": null,
   "metadata": {},
   "outputs": [],
   "source": [
    "\n"
   ]
  },
  {
   "cell_type": "markdown",
   "metadata": {},
   "source": [
    "## Plotting the Data\n",
    "* Use proper labeling of the plots using plot titles (including date of analysis) and axes labels.\n",
    "* Save the plotted figures as .pngs."
   ]
  },
  {
   "cell_type": "markdown",
   "metadata": {},
   "source": [
    "## Latitude vs. Temperature Plot"
   ]
  },
  {
   "cell_type": "code",
   "execution_count": 10,
   "metadata": {
    "scrolled": true
   },
   "outputs": [
    {
     "data": {
      "text/plain": [
       "<function matplotlib.pyplot.show(close=None, block=None)>"
      ]
     },
     "execution_count": 10,
     "metadata": {},
     "output_type": "execute_result"
    },
    {
     "data": {
      "image/png": "[encoded data removed]",
      "text/plain": [
       "<Figure size 432x288 with 1 Axes>"
      ]
     },
     "metadata": {
      "needs_background": "light"
     },
     "output_type": "display_data"
    }
   ],
   "source": [
    "Lat_Temp = plt.scatter(city_dataframe[\"Lat\"], city_dataframe[\"Max Temp\"])\n",
    "plt.xlabel(\"Latitude\")\n",
    "plt.ylabel(\"Temperature (Farenheight)\")\n",
    "plt.title(\"City Latitude vs Temperature\")\n",
    "plt.savefig(\"Lat_vs_Temp.png\")\n",
    "plt.show"
   ]
  },
  {
   "cell_type": "markdown",
   "metadata": {},
   "source": [
    "## Latitude vs. Humidity Plot"
   ]
  },
  {
   "cell_type": "code",
   "execution_count": 11,
   "metadata": {},
   "outputs": [
    {
     "data": {
      "text/plain": [
       "<function matplotlib.pyplot.show(close=None, block=None)>"
      ]
     },
     "execution_count": 11,
     "metadata": {},
     "output_type": "execute_result"
    },
    {
     "data": {
      "image/png": "[encoded data removed]",
      "text/plain": [
       "<Figure size 432x288 with 1 Axes>"
      ]
     },
     "metadata": {
      "needs_background": "light"
     },
     "output_type": "display_data"
    }
   ],
   "source": [
    "Lat_Hum = plt.scatter(city_dataframe[\"Lat\"], city_dataframe[\"Humidity\"])\n",
    "plt.xlabel(\"Latitude\")\n",
    "plt.ylabel(\"Humidity (%)\")\n",
    "plt.title(\"City Latitude vs Humidity\")\n",
    "plt.savefig(\"Lat_vs_Humidity.png\")\n",
    "plt.show"
   ]
  },
  {
   "cell_type": "markdown",
   "metadata": {},
   "source": [
    "## Latitude vs. Cloudiness Plot"
   ]
  },
  {
   "cell_type": "code",
   "execution_count": 12,
   "metadata": {},
   "outputs": [
    {
     "data": {
      "text/plain": [
       "<function matplotlib.pyplot.show(close=None, block=None)>"
      ]
     },
     "execution_count": 12,
     "metadata": {},
     "output_type": "execute_result"
    },
    {
     "data": {
      "image/png": "[encoded data removed]",
      "text/plain": [
       "<Figure size 432x288 with 1 Axes>"
      ]
     },
     "metadata": {
      "needs_background": "light"
     },
     "output_type": "display_data"
    }
   ],
   "source": [
    "Lat_Cloud = plt.scatter(city_dataframe[\"Lat\"], city_dataframe[\"Cloudiness\"])\n",
    "plt.xlabel(\"Latitude\")\n",
    "plt.ylabel(\"Cloudiness (%)\")\n",
    "plt.title(\"City Latitude vs Cloudiness\")\n",
    "plt.savefig(\"Lat_vs_Cloudiness.png\")\n",
    "plt.show"
   ]
  },
  {
   "cell_type": "markdown",
   "metadata": {},
   "source": [
    "## Latitude vs. Wind Speed Plot"
   ]
  },
  {
   "cell_type": "code",
   "execution_count": 13,
   "metadata": {},
   "outputs": [
    {
     "data": {
      "text/plain": [
       "<function matplotlib.pyplot.show(close=None, block=None)>"
      ]
     },
     "execution_count": 13,
     "metadata": {},
     "output_type": "execute_result"
    },
    {
     "data": {
      "image/png": "[encoded data removed]",
      "text/plain": [
       "<Figure size 432x288 with 1 Axes>"
      ]
     },
     "metadata": {
      "needs_background": "light"
     },
     "output_type": "display_data"
    }
   ],
   "source": [
    "Lat_Hum = plt.scatter(city_dataframe[\"Lat\"], city_dataframe[\"Wind Speed\"])\n",
    "plt.xlabel(\"Latitude\")\n",
    "plt.ylabel(\"Wind Speed (mph)\")\n",
    "plt.title(\"City Latitude vs Wind Speed\")\n",
    "plt.savefig(\"Lat_vs_Speed.png\")\n",
    "plt.show"
   ]
  },
  {
   "cell_type": "markdown",
   "metadata": {},
   "source": [
    "## Linear Regression"
   ]
  },
  {
   "cell_type": "code",
   "execution_count": null,
   "metadata": {},
   "outputs": [],
   "source": []
  },
  {
   "cell_type": "markdown",
   "metadata": {},
   "source": [
    "####  Northern Hemisphere - Max Temp vs. Latitude Linear Regression"
   ]
  },
  {
   "cell_type": "code",
   "execution_count": 14,
   "metadata": {},
   "outputs": [
    {
     "name": "stdout",
     "output_type": "stream",
     "text": [
      "The correlation between both factors is -0.88\n",
      "y = -0.95x + 90.51\n"
     ]
    },
    {
     "data": {
      "text/plain": [
       "<function matplotlib.pyplot.show(close=None, block=None)>"
      ]
     },
     "execution_count": 14,
     "metadata": {},
     "output_type": "execute_result"
    },
    {
     "data": {
      "image/png": "[encoded data removed]",
      "text/plain": [
       "<Figure size 432x288 with 1 Axes>"
      ]
     },
     "metadata": {
      "needs_background": "light"
     },
     "output_type": "display_data"
    }
   ],
   "source": [
    "North = city_dataframe.loc[(city_dataframe[\"Lat\"]>0)]\n",
    "North_lat = North[\"Lat\"]\n",
    "North_temp = North[\"Max Temp\"]\n",
    "plt.scatter(North_lat, North_temp)\n",
    "plt.xlabel(\"Latitude\")\n",
    "plt.ylabel(\"Temperature(Farenheight)\")\n",
    "\n",
    "\n",
    "correlation = st.pearsonr(North_lat, North_temp)\n",
    "(slope, intercept, rvalue, pvalue, stderr) = linregress(North_lat, North_temp)\n",
    "regress_values = North_lat * slope + intercept\n",
    "\n",
    "line_eq = \"y = \" + str(round(slope,2)) + \"x + \" + str(round(intercept,2))\n",
    "plt.annotate(line_eq,(0,10),fontsize=15,color=\"red\")\n",
    "plt.plot(North_lat, regress_values,\"r-\")\n",
    "print(f\"The correlation between both factors is {round(correlation[0],2)}\")\n",
    "print(line_eq)\n",
    "\n",
    "plt.savefig(\"North_Lat_vs_Temp.png\")\n",
    "plt.show\n"
   ]
  },
  {
   "cell_type": "markdown",
   "metadata": {},
   "source": [
    "####  Southern Hemisphere - Max Temp vs. Latitude Linear Regression"
   ]
  },
  {
   "cell_type": "code",
   "execution_count": 15,
   "metadata": {},
   "outputs": [
    {
     "name": "stdout",
     "output_type": "stream",
     "text": [
      "The correlation between both factors is 0.65\n",
      "y = 0.52x + 80.95\n"
     ]
    },
    {
     "data": {
      "text/plain": [
       "<function matplotlib.pyplot.show(close=None, block=None)>"
      ]
     },
     "execution_count": 15,
     "metadata": {},
     "output_type": "execute_result"
    },
    {
     "data": {
      "image/png": "[encoded data removed]",
      "text/plain": [
       "<Figure size 432x288 with 1 Axes>"
      ]
     },
     "metadata": {
      "needs_background": "light"
     },
     "output_type": "display_data"
    }
   ],
   "source": [
    "South = city_dataframe.loc[(city_dataframe[\"Lat\"]<0)]\n",
    "South_lat = South[\"Lat\"]\n",
    "South_temp = South[\"Max Temp\"]\n",
    "plt.scatter(South_lat, South_temp)\n",
    "plt.xlabel(\"Latitude\")\n",
    "plt.ylabel(\"Temperature(Farenheight)\")\n",
    "\n",
    "correlation = st.pearsonr(South_lat, South_temp)\n",
    "(slope, intercept, rvalue, pvalue, stderr) = linregress(South_lat, South_temp)\n",
    "regress_values = South_lat * slope + intercept\n",
    "\n",
    "line_eq = \"y = \" + str(round(slope,2)) + \"x + \" + str(round(intercept,2))\n",
    "plt.annotate(line_eq,(-30,60),fontsize=15,color=\"red\")\n",
    "plt.plot(South_lat, regress_values,\"r-\")\n",
    "print(f\"The correlation between both factors is {round(correlation[0],2)}\")\n",
    "print(line_eq)\n",
    "\n",
    "plt.savefig(\"SouthLat_vs_Temp.png\")\n",
    "plt.show"
   ]
  },
  {
   "cell_type": "markdown",
   "metadata": {},
   "source": [
    "####  Northern Hemisphere - Humidity (%) vs. Latitude Linear Regression"
   ]
  },
  {
   "cell_type": "code",
   "execution_count": 16,
   "metadata": {},
   "outputs": [
    {
     "name": "stdout",
     "output_type": "stream",
     "text": [
      "The correlation between both factors is 0.19\n",
      "y = 0.19x + 67.18\n"
     ]
    },
    {
     "data": {
      "text/plain": [
       "<function matplotlib.pyplot.show(close=None, block=None)>"
      ]
     },
     "execution_count": 16,
     "metadata": {},
     "output_type": "execute_result"
    },
    {
     "data": {
      "image/png": "[encoded data removed]",
      "text/plain": [
       "<Figure size 432x288 with 1 Axes>"
      ]
     },
     "metadata": {
      "needs_background": "light"
     },
     "output_type": "display_data"
    }
   ],
   "source": [
    "North_hum = North[\"Humidity\"]\n",
    "plt.scatter(North_lat, North_hum)\n",
    "plt.xlabel(\"Latitude\")\n",
    "plt.ylabel(\"Humidity(%)\")\n",
    "\n",
    "correlation = st.pearsonr(North_lat, North_hum)\n",
    "(slope, intercept, rvalue, pvalue, stderr) = linregress(North_lat, North_hum)\n",
    "regress_values = North_lat * slope + intercept\n",
    "\n",
    "line_eq = \"y = \" + str(round(slope,2)) + \"x + \" + str(round(intercept,2))\n",
    "plt.annotate(line_eq,(0,20),fontsize=15,color=\"red\")\n",
    "plt.plot(North_lat, regress_values,\"r-\")\n",
    "print(f\"The correlation between both factors is {round(correlation[0],2)}\")\n",
    "print(line_eq)\n",
    "\n",
    "plt.savefig(\"NorthLat_vs_Humidity.png\")\n",
    "plt.show"
   ]
  },
  {
   "cell_type": "markdown",
   "metadata": {},
   "source": [
    "####  Southern Hemisphere - Humidity (%) vs. Latitude Linear Regression"
   ]
  },
  {
   "cell_type": "code",
   "execution_count": 17,
   "metadata": {},
   "outputs": [
    {
     "name": "stdout",
     "output_type": "stream",
     "text": [
      "The correlation between both factors is 0.23\n",
      "y = 0.29x + 79.34\n"
     ]
    },
    {
     "data": {
      "text/plain": [
       "<function matplotlib.pyplot.show(close=None, block=None)>"
      ]
     },
     "execution_count": 17,
     "metadata": {},
     "output_type": "execute_result"
    },
    {
     "data": {
      "image/png": "[encoded data removed]",
      "text/plain": [
       "<Figure size 432x288 with 1 Axes>"
      ]
     },
     "metadata": {
      "needs_background": "light"
     },
     "output_type": "display_data"
    }
   ],
   "source": [
    "South_hum = South[\"Humidity\"]\n",
    "plt.scatter(South_lat, South_hum)\n",
    "plt.xlabel(\"Latitude\")\n",
    "plt.ylabel(\"Humidity(%)\")\n",
    "\n",
    "correlation = st.pearsonr(South_lat, South_hum)\n",
    "(slope, intercept, rvalue, pvalue, stderr) = linregress(South_lat, South_hum)\n",
    "regress_values = South_lat * slope + intercept\n",
    "\n",
    "line_eq = \"y = \" + str(round(slope,2)) + \"x + \" + str(round(intercept,2))\n",
    "plt.annotate(line_eq,(-30,60),fontsize=15,color=\"red\")\n",
    "plt.plot(South_lat, regress_values,\"r-\")\n",
    "print(f\"The correlation between both factors is {round(correlation[0],2)}\")\n",
    "print(line_eq)\n",
    "\n",
    "plt.savefig(\"SouthLat_vs_Humidity.png\")\n",
    "plt.show"
   ]
  },
  {
   "cell_type": "markdown",
   "metadata": {},
   "source": [
    "####  Northern Hemisphere - Cloudiness (%) vs. Latitude Linear Regression"
   ]
  },
  {
   "cell_type": "code",
   "execution_count": 18,
   "metadata": {},
   "outputs": [
    {
     "name": "stdout",
     "output_type": "stream",
     "text": [
      "The correlation between both factors is 0.19\n",
      "y = 0.38x + 45.07\n"
     ]
    },
    {
     "data": {
      "text/plain": [
       "<function matplotlib.pyplot.show(close=None, block=None)>"
      ]
     },
     "execution_count": 18,
     "metadata": {},
     "output_type": "execute_result"
    },
    {
     "data": {
      "image/png": "[encoded data removed]",
      "text/plain": [
       "<Figure size 432x288 with 1 Axes>"
      ]
     },
     "metadata": {
      "needs_background": "light"
     },
     "output_type": "display_data"
    }
   ],
   "source": [
    "North_cloud = North[\"Cloudiness\"]\n",
    "plt.scatter(North_lat, North_cloud)\n",
    "plt.xlabel(\"Latitude\")\n",
    "plt.ylabel(\"Cloudiness(%)\")\n",
    "\n",
    "correlation = st.pearsonr(North_lat, North_cloud)\n",
    "(slope, intercept, rvalue, pvalue, stderr) = linregress(North_lat, North_cloud)\n",
    "regress_values = North_lat * slope + intercept\n",
    "\n",
    "line_eq = \"y = \" + str(round(slope,2)) + \"x + \" + str(round(intercept,2))\n",
    "plt.annotate(line_eq,(40,20),fontsize=15,color=\"red\")\n",
    "plt.plot(North_lat, regress_values,\"r-\")\n",
    "print(f\"The correlation between both factors is {round(correlation[0],2)}\")\n",
    "print(line_eq)\n",
    "plt.savefig(\"NorthLat_vs_Cloudiness.png\")\n",
    "plt.show"
   ]
  },
  {
   "cell_type": "markdown",
   "metadata": {},
   "source": [
    "####  Southern Hemisphere - Cloudiness (%) vs. Latitude Linear Regression"
   ]
  },
  {
   "cell_type": "code",
   "execution_count": 19,
   "metadata": {},
   "outputs": [
    {
     "name": "stdout",
     "output_type": "stream",
     "text": [
      "The correlation between both factors is 0.15\n",
      "y = 0.45x + 65.64\n"
     ]
    },
    {
     "data": {
      "text/plain": [
       "<function matplotlib.pyplot.show(close=None, block=None)>"
      ]
     },
     "execution_count": 19,
     "metadata": {},
     "output_type": "execute_result"
    },
    {
     "data": {
      "image/png": "[encoded data removed]",
      "text/plain": [
       "<Figure size 432x288 with 1 Axes>"
      ]
     },
     "metadata": {
      "needs_background": "light"
     },
     "output_type": "display_data"
    }
   ],
   "source": [
    "South_cloud = South[\"Cloudiness\"]\n",
    "plt.scatter(South_lat, South_cloud)\n",
    "plt.xlabel(\"Latitude\")\n",
    "plt.ylabel(\"Cloudiness(%)\")\n",
    "\n",
    "correlation = st.pearsonr(South_lat, South_cloud)\n",
    "(slope, intercept, rvalue, pvalue, stderr) = linregress(South_lat, South_cloud)\n",
    "regress_values = South_lat * slope + intercept\n",
    "\n",
    "line_eq = \"y = \" + str(round(slope,2)) + \"x + \" + str(round(intercept,2))\n",
    "plt.annotate(line_eq,(-30,60),fontsize=15,color=\"red\")\n",
    "plt.plot(South_lat, regress_values,\"r-\")\n",
    "print(f\"The correlation between both factors is {round(correlation[0],2)}\")\n",
    "print(line_eq)\n",
    "plt.savefig(\"SouthLat_vs_Cloudiness.png\")\n",
    "plt.show"
   ]
  },
  {
   "cell_type": "markdown",
   "metadata": {},
   "source": [
    "####  Northern Hemisphere - Wind Speed (mph) vs. Latitude Linear Regression"
   ]
  },
  {
   "cell_type": "code",
   "execution_count": 20,
   "metadata": {},
   "outputs": [
    {
     "name": "stdout",
     "output_type": "stream",
     "text": [
      "The correlation between both factors is 0.27\n",
      "y = 0.07x + 4.35\n"
     ]
    },
    {
     "data": {
      "text/plain": [
       "<function matplotlib.pyplot.show(close=None, block=None)>"
      ]
     },
     "execution_count": 20,
     "metadata": {},
     "output_type": "execute_result"
    },
    {
     "data": {
      "image/png": "[encoded data removed]",
      "text/plain": [
       "<Figure size 432x288 with 1 Axes>"
      ]
     },
     "metadata": {
      "needs_background": "light"
     },
     "output_type": "display_data"
    }
   ],
   "source": [
    "North_speed = North[\"Wind Speed\"]\n",
    "plt.scatter(North_lat, North_speed)\n",
    "plt.xlabel(\"Latitude\")\n",
    "plt.ylabel(\"Wind Speed(mph)\")\n",
    "\n",
    "correlation = st.pearsonr(North_lat, North_speed)\n",
    "(slope, intercept, rvalue, pvalue, stderr) = linregress(North_lat, North_speed)\n",
    "regress_values = North_lat * slope + intercept\n",
    "\n",
    "line_eq = \"y = \" + str(round(slope,2)) + \"x + \" + str(round(intercept,2))\n",
    "plt.annotate(line_eq,(40,20),fontsize=15,color=\"red\")\n",
    "plt.plot(North_lat, regress_values,\"r-\")\n",
    "print(f\"The correlation between both factors is {round(correlation[0],2)}\")\n",
    "print(line_eq)\n",
    "plt.savefig(\"NorthLat_vs_Speed.png\")\n",
    "plt.show"
   ]
  },
  {
   "cell_type": "markdown",
   "metadata": {},
   "source": [
    "####  Southern Hemisphere - Wind Speed (mph) vs. Latitude Linear Regression"
   ]
  },
  {
   "cell_type": "code",
   "execution_count": 21,
   "metadata": {},
   "outputs": [
    {
     "name": "stdout",
     "output_type": "stream",
     "text": [
      "The correlation between both factors is -0.25\n",
      "y = -0.1x + 5.47\n"
     ]
    },
    {
     "data": {
      "text/plain": [
       "<function matplotlib.pyplot.show(close=None, block=None)>"
      ]
     },
     "execution_count": 21,
     "metadata": {},
     "output_type": "execute_result"
    },
    {
     "data": {
      "image/png": "[encoded data removed]",
      "text/plain": [
       "<Figure size 432x288 with 1 Axes>"
      ]
     },
     "metadata": {
      "needs_background": "light"
     },
     "output_type": "display_data"
    }
   ],
   "source": [
    "South_speed = South[\"Wind Speed\"]\n",
    "plt.scatter(South_lat, South_speed)\n",
    "plt.xlabel(\"Latitude\")\n",
    "plt.ylabel(\"Wind Speed (mph)\")\n",
    "\n",
    "correlation = st.pearsonr(South_lat, South_speed)\n",
    "(slope, intercept, rvalue, pvalue, stderr) = linregress(South_lat, South_speed)\n",
    "regress_values = South_lat * slope + intercept\n",
    "\n",
    "line_eq = \"y = \" + str(round(slope,2)) + \"x + \" + str(round(intercept,2))\n",
    "plt.annotate(line_eq,(-30,20),fontsize=15,color=\"red\")\n",
    "plt.plot(South_lat, regress_values,\"r-\")\n",
    "print(f\"The correlation between both factors is {round(correlation[0],2)}\")\n",
    "print(line_eq)\n",
    "plt.savefig(\"SouthLat_vs_Speed.png\")\n",
    "plt.show"
   ]
  },
  {
   "cell_type": "code",
   "execution_count": null,
   "metadata": {},
   "outputs": [],
   "source": []
  },
  {
   "cell_type": "code",
   "execution_count": null,
   "metadata": {},
   "outputs": [],
   "source": []
  },
  {
   "cell_type": "code",
   "execution_count": null,
   "metadata": {},
   "outputs": [],
   "source": []
  }
 ],
 "metadata": {
  "anaconda-cloud": {},
  "kernel_info": {
   "name": "python3"
  },
  "kernelspec": {
   "display_name": "Python 3.8.11 64-bit ('PythonData': conda)",
   "language": "python",
   "name": "python3811jvsc74a57bd05755c43343c3da488ab81023b516bba14735b9a1a3400a7ee2388e7881b7e211"
  },
  "language_info": {
   "codemirror_mode": {
    "name": "ipython",
    "version": 3
   },
   "file_extension": ".py",
   "mimetype": "text/x-python",
   "name": "python",
   "nbconvert_exporter": "python",
   "pygments_lexer": "ipython3",
   "version": "3.8.11"
  },
  "latex_envs": {
   "LaTeX_envs_menu_present": true,
   "autoclose": false,
   "autocomplete": true,
   "bibliofile": "biblio.bib",
   "cite_by": "apalike",
   "current_citInitial": 1,
   "eqLabelWithNumbers": true,
   "eqNumInitial": 1,
   "hotkeys": {
    "equation": "Ctrl-E",
    "itemize": "Ctrl-I"
   },
   "labels_anchors": false,
   "latex_user_defs": false,
   "report_style_numbering": false,
   "user_envs_cfg": false
  },
  "nteract": {
   "version": "0.12.3"
  }
 },
 "nbformat": 4,
 "nbformat_minor": 2
}
